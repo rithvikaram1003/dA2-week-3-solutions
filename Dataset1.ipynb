{
  "nbformat": 4,
  "nbformat_minor": 0,
  "metadata": {
    "colab": {
      "provenance": []
    },
    "kernelspec": {
      "name": "python3",
      "display_name": "Python 3"
    },
    "language_info": {
      "name": "python"
    }
  },
  "cells": [
    {
      "cell_type": "code",
      "execution_count": null,
      "metadata": {
        "id": "ikIEiENHsC4M"
      },
      "outputs": [],
      "source": [
        "import pandas as pd\n",
        "import numpy as np"
      ]
    },
    {
      "cell_type": "code",
      "source": [
        "df = pd.read_csv(\""C:\Users\Hema\Downloads\Data-cleaning-for-beginners-using-pandas (1).csv"\")\n",
        "df.head()"
      ],
      "metadata": {
        "colab": {
          "base_uri": "https://localhost:8080/",
          "height": 206
        },
        "id": "Tx-wQTxtsTY7",
        "outputId": "148f3ddc-4fa7-47d6-ef86-19320ada397d"
      },
      "execution_count": null,
      "outputs": [
        {
          "output_type": "execute_result",
          "data": {
            "text/plain": [
              "   Index   Age     Salary  Rating       Location  Established Easy Apply\n",
              "0      0  44.0  $44k-$99k     5.4       India,In         1999       TRUE\n",
              "1      1  66.0  $55k-$66k     3.5    New York,Ny         2002       TRUE\n",
              "2      2   NaN  $77k-$89k    -1.0    New York,Ny           -1         -1\n",
              "3      3  64.0  $44k-$99k     4.4       India In         1988         -1\n",
              "4      4  25.0  $44k-$99k     6.4  Australia Aus         2002         -1"
            ],
            "text/html": [
              "\n",
              "  <div id=\"df-74369af6-6e46-4e45-aa17-2a8d6a98093c\" class=\"colab-df-container\">\n",
              "    <div>\n",
              "<style scoped>\n",
              "    .dataframe tbody tr th:only-of-type {\n",
              "        vertical-align: middle;\n",
              "    }\n",
              "\n",
              "    .dataframe tbody tr th {\n",
              "        vertical-align: top;\n",
              "    }\n",
              "\n",
              "    .dataframe thead th {\n",
              "        text-align: right;\n",
              "    }\n",
              "</style>\n",
              "<table border=\"1\" class=\"dataframe\">\n",
              "  <thead>\n",
              "    <tr style=\"text-align: right;\">\n",
              "      <th></th>\n",
              "      <th>Index</th>\n",
              "      <th>Age</th>\n",
              "      <th>Salary</th>\n",
              "      <th>Rating</th>\n",
              "      <th>Location</th>\n",
              "      <th>Established</th>\n",
              "      <th>Easy Apply</th>\n",
              "    </tr>\n",
              "  </thead>\n",
              "  <tbody>\n",
              "    <tr>\n",
              "      <th>0</th>\n",
              "      <td>0</td>\n",
              "      <td>44.0</td>\n",
              "      <td>$44k-$99k</td>\n",
              "      <td>5.4</td>\n",
              "      <td>India,In</td>\n",
              "      <td>1999</td>\n",
              "      <td>TRUE</td>\n",
              "    </tr>\n",
              "    <tr>\n",
              "      <th>1</th>\n",
              "      <td>1</td>\n",
              "      <td>66.0</td>\n",
              "      <td>$55k-$66k</td>\n",
              "      <td>3.5</td>\n",
              "      <td>New York,Ny</td>\n",
              "      <td>2002</td>\n",
              "      <td>TRUE</td>\n",
              "    </tr>\n",
              "    <tr>\n",
              "      <th>2</th>\n",
              "      <td>2</td>\n",
              "      <td>NaN</td>\n",
              "      <td>$77k-$89k</td>\n",
              "      <td>-1.0</td>\n",
              "      <td>New York,Ny</td>\n",
              "      <td>-1</td>\n",
              "      <td>-1</td>\n",
              "    </tr>\n",
              "    <tr>\n",
              "      <th>3</th>\n",
              "      <td>3</td>\n",
              "      <td>64.0</td>\n",
              "      <td>$44k-$99k</td>\n",
              "      <td>4.4</td>\n",
              "      <td>India In</td>\n",
              "      <td>1988</td>\n",
              "      <td>-1</td>\n",
              "    </tr>\n",
              "    <tr>\n",
              "      <th>4</th>\n",
              "      <td>4</td>\n",
              "      <td>25.0</td>\n",
              "      <td>$44k-$99k</td>\n",
              "      <td>6.4</td>\n",
              "      <td>Australia Aus</td>\n",
              "      <td>2002</td>\n",
              "      <td>-1</td>\n",
              "    </tr>\n",
              "  </tbody>\n",
              "</table>\n",
              "</div>\n",
              "    <div class=\"colab-df-buttons\">\n",
              "\n",
              "  <div class=\"colab-df-container\">\n",
              "    <button class=\"colab-df-convert\" onclick=\"convertToInteractive('df-74369af6-6e46-4e45-aa17-2a8d6a98093c')\"\n",
              "            title=\"Convert this dataframe to an interactive table.\"\n",
              "            style=\"display:none;\">\n",
              "\n",
              "  <svg xmlns=\"http://www.w3.org/2000/svg\" height=\"24px\" viewBox=\"0 -960 960 960\">\n",
              "    <path d=\"M120-120v-720h720v720H120Zm60-500h600v-160H180v160Zm220 220h160v-160H400v160Zm0 220h160v-160H400v160ZM180-400h160v-160H180v160Zm440 0h160v-160H620v160ZM180-180h160v-160H180v160Zm440 0h160v-160H620v160Z\"/>\n",
              "  </svg>\n",
              "    </button>\n",
              "\n",
              "  <style>\n",
              "    .colab-df-container {\n",
              "      display:flex;\n",
              "      gap: 12px;\n",
              "    }\n",
              "\n",
              "    .colab-df-convert {\n",
              "      background-color: #E8F0FE;\n",
              "      border: none;\n",
              "      border-radius: 50%;\n",
              "      cursor: pointer;\n",
              "      display: none;\n",
              "      fill: #1967D2;\n",
              "      height: 32px;\n",
              "      padding: 0 0 0 0;\n",
              "      width: 32px;\n",
              "    }\n",
              "\n",
              "    .colab-df-convert:hover {\n",
              "      background-color: #E2EBFA;\n",
              "      box-shadow: 0px 1px 2px rgba(60, 64, 67, 0.3), 0px 1px 3px 1px rgba(60, 64, 67, 0.15);\n",
              "      fill: #174EA6;\n",
              "    }\n",
              "\n",
              "    .colab-df-buttons div {\n",
              "      margin-bottom: 4px;\n",
              "    }\n",
              "\n",
              "    [theme=dark] .colab-df-convert {\n",
              "      background-color: #3B4455;\n",
              "      fill: #D2E3FC;\n",
              "    }\n",
              "\n",
              "    [theme=dark] .colab-df-convert:hover {\n",
              "      background-color: #434B5C;\n",
              "      box-shadow: 0px 1px 3px 1px rgba(0, 0, 0, 0.15);\n",
              "      filter: drop-shadow(0px 1px 2px rgba(0, 0, 0, 0.3));\n",
              "      fill: #FFFFFF;\n",
              "    }\n",
              "  </style>\n",
              "\n",
              "    <script>\n",
              "      const buttonEl =\n",
              "        document.querySelector('#df-74369af6-6e46-4e45-aa17-2a8d6a98093c button.colab-df-convert');\n",
              "      buttonEl.style.display =\n",
              "        google.colab.kernel.accessAllowed ? 'block' : 'none';\n",
              "\n",
              "      async function convertToInteractive(key) {\n",
              "        const element = document.querySelector('#df-74369af6-6e46-4e45-aa17-2a8d6a98093c');\n",
              "        const dataTable =\n",
              "          await google.colab.kernel.invokeFunction('convertToInteractive',\n",
              "                                                    [key], {});\n",
              "        if (!dataTable) return;\n",
              "\n",
              "        const docLinkHtml = 'Like what you see? Visit the ' +\n",
              "          '<a target=\"_blank\" href=https://colab.research.google.com/notebooks/data_table.ipynb>data table notebook</a>'\n",
              "          + ' to learn more about interactive tables.';\n",
              "        element.innerHTML = '';\n",
              "        dataTable['output_type'] = 'display_data';\n",
              "        await google.colab.output.renderOutput(dataTable, element);\n",
              "        const docLink = document.createElement('div');\n",
              "        docLink.innerHTML = docLinkHtml;\n",
              "        element.appendChild(docLink);\n",
              "      }\n",
              "    </script>\n",
              "  </div>\n",
              "\n",
              "\n",
              "<div id=\"df-639b4e16-2247-47ed-b26e-656645ab038a\">\n",
              "  <button class=\"colab-df-quickchart\" onclick=\"quickchart('df-639b4e16-2247-47ed-b26e-656645ab038a')\"\n",
              "            title=\"Suggest charts\"\n",
              "            style=\"display:none;\">\n",
              "\n",
              "<svg xmlns=\"http://www.w3.org/2000/svg\" height=\"24px\"viewBox=\"0 0 24 24\"\n",
              "     width=\"24px\">\n",
              "    <g>\n",
              "        <path d=\"M19 3H5c-1.1 0-2 .9-2 2v14c0 1.1.9 2 2 2h14c1.1 0 2-.9 2-2V5c0-1.1-.9-2-2-2zM9 17H7v-7h2v7zm4 0h-2V7h2v10zm4 0h-2v-4h2v4z\"/>\n",
              "    </g>\n",
              "</svg>\n",
              "  </button>\n",
              "\n",
              "<style>\n",
              "  .colab-df-quickchart {\n",
              "      --bg-color: #E8F0FE;\n",
              "      --fill-color: #1967D2;\n",
              "      --hover-bg-color: #E2EBFA;\n",
              "      --hover-fill-color: #174EA6;\n",
              "      --disabled-fill-color: #AAA;\n",
              "      --disabled-bg-color: #DDD;\n",
              "  }\n",
              "\n",
              "  [theme=dark] .colab-df-quickchart {\n",
              "      --bg-color: #3B4455;\n",
              "      --fill-color: #D2E3FC;\n",
              "      --hover-bg-color: #434B5C;\n",
              "      --hover-fill-color: #FFFFFF;\n",
              "      --disabled-bg-color: #3B4455;\n",
              "      --disabled-fill-color: #666;\n",
              "  }\n",
              "\n",
              "  .colab-df-quickchart {\n",
              "    background-color: var(--bg-color);\n",
              "    border: none;\n",
              "    border-radius: 50%;\n",
              "    cursor: pointer;\n",
              "    display: none;\n",
              "    fill: var(--fill-color);\n",
              "    height: 32px;\n",
              "    padding: 0;\n",
              "    width: 32px;\n",
              "  }\n",
              "\n",
              "  .colab-df-quickchart:hover {\n",
              "    background-color: var(--hover-bg-color);\n",
              "    box-shadow: 0 1px 2px rgba(60, 64, 67, 0.3), 0 1px 3px 1px rgba(60, 64, 67, 0.15);\n",
              "    fill: var(--button-hover-fill-color);\n",
              "  }\n",
              "\n",
              "  .colab-df-quickchart-complete:disabled,\n",
              "  .colab-df-quickchart-complete:disabled:hover {\n",
              "    background-color: var(--disabled-bg-color);\n",
              "    fill: var(--disabled-fill-color);\n",
              "    box-shadow: none;\n",
              "  }\n",
              "\n",
              "  .colab-df-spinner {\n",
              "    border: 2px solid var(--fill-color);\n",
              "    border-color: transparent;\n",
              "    border-bottom-color: var(--fill-color);\n",
              "    animation:\n",
              "      spin 1s steps(1) infinite;\n",
              "  }\n",
              "\n",
              "  @keyframes spin {\n",
              "    0% {\n",
              "      border-color: transparent;\n",
              "      border-bottom-color: var(--fill-color);\n",
              "      border-left-color: var(--fill-color);\n",
              "    }\n",
              "    20% {\n",
              "      border-color: transparent;\n",
              "      border-left-color: var(--fill-color);\n",
              "      border-top-color: var(--fill-color);\n",
              "    }\n",
              "    30% {\n",
              "      border-color: transparent;\n",
              "      border-left-color: var(--fill-color);\n",
              "      border-top-color: var(--fill-color);\n",
              "      border-right-color: var(--fill-color);\n",
              "    }\n",
              "    40% {\n",
              "      border-color: transparent;\n",
              "      border-right-color: var(--fill-color);\n",
              "      border-top-color: var(--fill-color);\n",
              "    }\n",
              "    60% {\n",
              "      border-color: transparent;\n",
              "      border-right-color: var(--fill-color);\n",
              "    }\n",
              "    80% {\n",
              "      border-color: transparent;\n",
              "      border-right-color: var(--fill-color);\n",
              "      border-bottom-color: var(--fill-color);\n",
              "    }\n",
              "    90% {\n",
              "      border-color: transparent;\n",
              "      border-bottom-color: var(--fill-color);\n",
              "    }\n",
              "  }\n",
              "</style>\n",
              "\n",
              "  <script>\n",
              "    async function quickchart(key) {\n",
              "      const quickchartButtonEl =\n",
              "        document.querySelector('#' + key + ' button');\n",
              "      quickchartButtonEl.disabled = true;  // To prevent multiple clicks.\n",
              "      quickchartButtonEl.classList.add('colab-df-spinner');\n",
              "      try {\n",
              "        const charts = await google.colab.kernel.invokeFunction(\n",
              "            'suggestCharts', [key], {});\n",
              "      } catch (error) {\n",
              "        console.error('Error during call to suggestCharts:', error);\n",
              "      }\n",
              "      quickchartButtonEl.classList.remove('colab-df-spinner');\n",
              "      quickchartButtonEl.classList.add('colab-df-quickchart-complete');\n",
              "    }\n",
              "    (() => {\n",
              "      let quickchartButtonEl =\n",
              "        document.querySelector('#df-639b4e16-2247-47ed-b26e-656645ab038a button');\n",
              "      quickchartButtonEl.style.display =\n",
              "        google.colab.kernel.accessAllowed ? 'block' : 'none';\n",
              "    })();\n",
              "  </script>\n",
              "</div>\n",
              "\n",
              "    </div>\n",
              "  </div>\n"
            ]
          },
          "metadata": {},
          "execution_count": 19
        }
      ]
    },
    {
      "cell_type": "code",
      "source": [
        "# Check for missing data\n",
        "print('Missing Data\\n', df.isnull())\n",
        "\n",
        "# Print only missing data\n",
        "print('Filter based on columns: \\n', df[df.isnull().any(axis=1)])\n",
        "\n",
        "# Sum up the missing values\n",
        "print('Sum up the missing values: \\n', df.isnull().sum())"
      ],
      "metadata": {
        "colab": {
          "base_uri": "https://localhost:8080/"
        },
        "id": "gUkINEIW1rCW",
        "outputId": "6613106c-0676-4619-c83f-bfe9c6e2ea62"
      },
      "execution_count": null,
      "outputs": [
        {
          "output_type": "stream",
          "name": "stdout",
          "text": [
            "Missing Data\n",
            "     Index    Age  Salary  Rating  Location  Established  Easy Apply\n",
            "0   False  False   False   False     False        False       False\n",
            "1   False  False   False   False     False        False       False\n",
            "2   False   True   False   False     False        False       False\n",
            "3   False  False   False   False     False        False       False\n",
            "4   False  False   False   False     False        False       False\n",
            "5   False  False   False   False     False        False       False\n",
            "6   False  False   False   False     False        False       False\n",
            "7   False  False   False   False     False        False       False\n",
            "8   False  False   False   False     False        False       False\n",
            "9   False  False   False   False     False        False       False\n",
            "10  False  False   False   False     False        False       False\n",
            "11  False  False   False   False     False        False       False\n",
            "12  False   True   False   False     False        False       False\n",
            "13  False  False   False   False     False        False       False\n",
            "14  False  False   False   False     False        False       False\n",
            "15  False  False   False   False     False        False       False\n",
            "16  False  False   False   False     False        False       False\n",
            "17  False   True   False   False     False        False       False\n",
            "18  False  False   False   False     False        False       False\n",
            "19  False  False   False   False     False        False       False\n",
            "20  False   True   False   False     False        False       False\n",
            "21  False  False   False   False     False        False       False\n",
            "22  False  False   False   False     False        False       False\n",
            "23  False   True   False   False     False        False       False\n",
            "24  False  False   False   False     False        False       False\n",
            "25  False  False   False   False     False        False       False\n",
            "26  False   True   False    True     False        False       False\n",
            "27  False  False   False   False     False        False       False\n",
            "28  False   True   False   False     False        False       False\n",
            "Filter based on columns: \n",
            "     Index  Age     Salary  Rating       Location  Established Easy Apply\n",
            "2       2  NaN  $77k-$89k    -1.0    New York,Ny           -1         -1\n",
            "12     12  NaN  $44k-$99k     0.0       India,In         1999         -1\n",
            "17     17  NaN  $44k-$99k     5.3    New York,Ny         1943       TRUE\n",
            "20     20  NaN  $44k-$99k     5.7    New York,Ny         1944       TRUE\n",
            "23     23  NaN  $44k-$99k     2.4    New York,Ny         1999       TRUE\n",
            "26     26  NaN  $55k-$66k     NaN       India,In         1934       TRUE\n",
            "28     28  NaN  $39k-$88k     3.4  Australia Aus         1932         -1\n",
            "Sum up the missing values: \n",
            " Index          0\n",
            "Age            7\n",
            "Salary         0\n",
            "Rating         1\n",
            "Location       0\n",
            "Established    0\n",
            "Easy Apply     0\n",
            "dtype: int64\n"
          ]
        }
      ]
    },
    {
      "cell_type": "code",
      "source": [
        "#How should missing values be handled?\n",
        "print('Fill Missing Data\\n', df[\"Rating\"].fillna(\"0.0\", inplace = True))\n",
        "print('Sum up the missing values: \\n', df.isnull().sum())\n",
        "print(df)"
      ],
      "metadata": {
        "id": "-QEkkAaa4Ucq",
        "colab": {
          "base_uri": "https://localhost:8080/"
        },
        "outputId": "5d9fec5c-7ad5-4d54-e303-2e1a452e1766"
      },
      "execution_count": null,
      "outputs": [
        {
          "output_type": "stream",
          "name": "stdout",
          "text": [
            "Fill Missing Data\n",
            " None\n",
            "Sum up the missing values: \n",
            " Index          0\n",
            "Age            7\n",
            "Salary         0\n",
            "Rating         0\n",
            "Location       0\n",
            "Established    0\n",
            "Easy Apply     0\n",
            "dtype: int64\n",
            "    Index   Age      Salary Rating       Location  Established Easy Apply\n",
            "0       0  44.0   $44k-$99k    5.4       India,In         1999       TRUE\n",
            "1       1  66.0   $55k-$66k    3.5    New York,Ny         2002       TRUE\n",
            "2       2   NaN   $77k-$89k   -1.0    New York,Ny           -1         -1\n",
            "3       3  64.0   $44k-$99k    4.4       India In         1988         -1\n",
            "4       4  25.0   $44k-$99k    6.4  Australia Aus         2002         -1\n",
            "5       5  44.0   $77k-$89k    1.4       India,In         1999       TRUE\n",
            "6       6  21.0   $44k-$99k    0.0    New York,Ny           -1         -1\n",
            "7       7  44.0   $44k-$99k   -1.0  Australia Aus           -1         -1\n",
            "8       8  35.0   $44k-$99k    5.4    New York,Ny           -1         -1\n",
            "9       9  22.0   $44k-$99k    7.7       India,In           -1       TRUE\n",
            "10     10  55.0   $10k-$49k    5.4       India,In         2008       TRUE\n",
            "11     11  44.0   $10k-$49k    6.7       India,In         2009         -1\n",
            "12     12   NaN   $44k-$99k    0.0       India,In         1999         -1\n",
            "13     13  25.0   $44k-$99k   -1.0  Australia Aus         2019       TRUE\n",
            "14     14  66.0   $44k-$99k    4.0  Australia Aus         2020       TRUE\n",
            "15     15  44.0  $88k-$101k    3.0  Australia Aus         1999         -1\n",
            "16     16  19.0   $19k-$40k    4.5       India,In         1984         -1\n",
            "17     17   NaN   $44k-$99k    5.3    New York,Ny         1943       TRUE\n",
            "18     18  35.0   $44k-$99k    6.7    New York,Ny         1954       TRUE\n",
            "19     19  32.0   $44k-$99k    3.3    New York,Ny         1955       TRUE\n",
            "20     20   NaN   $44k-$99k    5.7    New York,Ny         1944       TRUE\n",
            "21     21  35.0   $44k-$99k    5.0    New York,Ny         1946         -1\n",
            "22     22  19.0   $55k-$66k    7.8    New York,Ny         1988       TRUE\n",
            "23     23   NaN   $44k-$99k    2.4    New York,Ny         1999       TRUE\n",
            "24     24  13.0   $44k-$99k   -1.0    New York,Ny         1987         -1\n",
            "25     25  55.0   $44k-$99k    0.0  Australia Aus         1980       TRUE\n",
            "26     26   NaN   $55k-$66k    0.0       India,In         1934       TRUE\n",
            "27     27  52.0   $44k-$99k    5.4       India,In         1935         -1\n",
            "28     28   NaN   $39k-$88k    3.4  Australia Aus         1932         -1\n"
          ]
        }
      ]
    },
    {
      "cell_type": "code",
      "source": [
        "#Data Types\n",
        "data_types=df.dtypes\n",
        "print(data_types)"
      ],
      "metadata": {
        "id": "meQTJoyqCsWH",
        "colab": {
          "base_uri": "https://localhost:8080/"
        },
        "outputId": "aebc16ef-3c5d-4b04-c448-369eb0ba5c83"
      },
      "execution_count": null,
      "outputs": [
        {
          "output_type": "stream",
          "name": "stdout",
          "text": [
            "Index            int64\n",
            "Age            float64\n",
            "Salary          object\n",
            "Rating         float64\n",
            "Location        object\n",
            "Established      int64\n",
            "Easy Apply      object\n",
            "dtype: object\n"
          ]
        }
      ]
    },
    {
      "cell_type": "code",
      "source": [
        "#changing data type\n",
        "df['Rating'] = df['Rating'].astype(float)\n",
        "df['Location'] = df['Location'].astype(str)\n",
        "df['Established'] = df['Established'].astype(int)\n",
        "\n",
        "print(data_types)"
      ],
      "metadata": {
        "colab": {
          "base_uri": "https://localhost:8080/"
        },
        "id": "L5l2GU-ts1h_",
        "outputId": "f1bc189b-8ac1-4666-faf5-b7dc7065f253"
      },
      "execution_count": null,
      "outputs": [
        {
          "output_type": "stream",
          "name": "stdout",
          "text": [
            "Index            int64\n",
            "Age              int64\n",
            "Salary          object\n",
            "Rating         float64\n",
            "Location        object\n",
            "Established      int64\n",
            "Easy Apply      object\n",
            "dtype: object\n"
          ]
        }
      ]
    },
    {
      "cell_type": "code",
      "source": [
        "#Salary column\n",
        "df['Salary'] = df['Salary'].str.replace('$', '')\n",
        "df['Salary']"
      ],
      "metadata": {
        "colab": {
          "base_uri": "https://localhost:8080/"
        },
        "id": "LRkWQgVLjS7V",
        "outputId": "f6e35ac6-8c41-4971-b75b-c602c88bcb04"
      },
      "execution_count": null,
      "outputs": [
        {
          "output_type": "stream",
          "name": "stderr",
          "text": [
            "<ipython-input-24-023063bb3430>:2: FutureWarning: The default value of regex will change from True to False in a future version. In addition, single character regular expressions will *not* be treated as literal strings when regex=True.\n",
            "  df['Salary'] = df['Salary'].str.replace('$', '')\n"
          ]
        },
        {
          "output_type": "execute_result",
          "data": {
            "text/plain": [
              "0      44k-99k\n",
              "1      55k-66k\n",
              "2      77k-89k\n",
              "3      44k-99k\n",
              "4      44k-99k\n",
              "5      77k-89k\n",
              "6      44k-99k\n",
              "7      44k-99k\n",
              "8      44k-99k\n",
              "9      44k-99k\n",
              "10     10k-49k\n",
              "11     10k-49k\n",
              "12     44k-99k\n",
              "13     44k-99k\n",
              "14     44k-99k\n",
              "15    88k-101k\n",
              "16     19k-40k\n",
              "17     44k-99k\n",
              "18     44k-99k\n",
              "19     44k-99k\n",
              "20     44k-99k\n",
              "21     44k-99k\n",
              "22     55k-66k\n",
              "23     44k-99k\n",
              "24     44k-99k\n",
              "25     44k-99k\n",
              "26     55k-66k\n",
              "27     44k-99k\n",
              "28     39k-88k\n",
              "Name: Salary, dtype: object"
            ]
          },
          "metadata": {},
          "execution_count": 24
        }
      ]
    },
    {
      "cell_type": "code",
      "source": [
        "#Age column\n",
        "print(df['Age'].describe())"
      ],
      "metadata": {
        "colab": {
          "base_uri": "https://localhost:8080/"
        },
        "id": "3jJ_2KakNBhj",
        "outputId": "59027058-e0eb-4a18-888d-79552ae8d3e7"
      },
      "execution_count": null,
      "outputs": [
        {
          "output_type": "stream",
          "name": "stdout",
          "text": [
            "count    22.000000\n",
            "mean     39.045455\n",
            "std      16.134781\n",
            "min      13.000000\n",
            "25%      25.000000\n",
            "50%      39.500000\n",
            "75%      50.000000\n",
            "max      66.000000\n",
            "Name: Age, dtype: float64\n"
          ]
        }
      ]
    },
    {
      "cell_type": "code",
      "source": [
        "#mean_age=df['Age'].mean()\n",
        "median_age=df['Age'].median()\n",
        "df['Age']=df['Age'].replace(np.nan,median_age)\n",
        "df['Age'] = df['Age'].astype(int)\n",
        "print(df['Age'])\n",
        "print(df['Age'].median())"
      ],
      "metadata": {
        "colab": {
          "base_uri": "https://localhost:8080/"
        },
        "id": "863cvsFCDOjZ",
        "outputId": "001b7fbb-d1ca-48d4-e31f-8bb65a9a8bbd"
      },
      "execution_count": null,
      "outputs": [
        {
          "output_type": "stream",
          "name": "stdout",
          "text": [
            "0     44\n",
            "1     66\n",
            "2     39\n",
            "3     64\n",
            "4     25\n",
            "5     44\n",
            "6     21\n",
            "7     44\n",
            "8     35\n",
            "9     22\n",
            "10    55\n",
            "11    44\n",
            "12    39\n",
            "13    25\n",
            "14    66\n",
            "15    44\n",
            "16    19\n",
            "17    39\n",
            "18    35\n",
            "19    32\n",
            "20    39\n",
            "21    35\n",
            "22    19\n",
            "23    39\n",
            "24    13\n",
            "25    55\n",
            "26    39\n",
            "27    52\n",
            "28    39\n",
            "Name: Age, dtype: int64\n",
            "39.0\n"
          ]
        }
      ]
    },
    {
      "cell_type": "code",
      "source": [
        "#Rating column\n",
        "df['Rating'] = df['Rating'].replace(-1, 0)\n",
        "avg_rating = df['Rating'].mean()\n",
        "df['Rating'] = df.Rating.fillna(avg_rating).round(decimals=1)\n",
        "print(df[\"Rating\"])"
      ],
      "metadata": {
        "colab": {
          "base_uri": "https://localhost:8080/"
        },
        "id": "9r4c7F8X2xgB",
        "outputId": "4fe51d45-9f5b-4399-8b53-7c783eec115f"
      },
      "execution_count": null,
      "outputs": [
        {
          "output_type": "stream",
          "name": "stdout",
          "text": [
            "0     5.4\n",
            "1     3.5\n",
            "2     0.0\n",
            "3     4.4\n",
            "4     6.4\n",
            "5     1.4\n",
            "6     0.0\n",
            "7     0.0\n",
            "8     5.4\n",
            "9     7.7\n",
            "10    5.4\n",
            "11    6.7\n",
            "12    0.0\n",
            "13    0.0\n",
            "14    4.0\n",
            "15    3.0\n",
            "16    4.5\n",
            "17    5.3\n",
            "18    6.7\n",
            "19    3.3\n",
            "20    5.7\n",
            "21    5.0\n",
            "22    7.8\n",
            "23    2.4\n",
            "24    0.0\n",
            "25    0.0\n",
            "26    0.0\n",
            "27    5.4\n",
            "28    3.4\n",
            "Name: Rating, dtype: float64\n"
          ]
        }
      ]
    },
    {
      "cell_type": "code",
      "source": [
        "#location column\n",
        "def format_location(location):\n",
        "    return location.split(',')[0].strip().split(' ')[0].strip()\n",
        "\n",
        "# Apply the function to the 'Location' column\n",
        "df['Location'] = df['Location'].apply(format_location)\n",
        "df['Location'] = df['Location'].replace('New','New York')\n",
        "# Apply the function to the 'Location' column\n",
        "\n",
        "\n",
        "# Display the modified DataFrame\n",
        "print(df)\n"
      ],
      "metadata": {
        "colab": {
          "base_uri": "https://localhost:8080/"
        },
        "id": "obtYydKEeTqI",
        "outputId": "b17974f3-c840-46c1-a45d-fe7af4fb609b"
      },
      "execution_count": null,
      "outputs": [
        {
          "output_type": "stream",
          "name": "stdout",
          "text": [
            "    Index  Age    Salary  Rating   Location  Established Easy Apply\n",
            "0       0   44   44k-99k     5.4      India         1999       TRUE\n",
            "1       1   66   55k-66k     3.5   New York         2002       TRUE\n",
            "2       2   39   77k-89k     0.0   New York           -1         -1\n",
            "3       3   64   44k-99k     4.4      India         1988         -1\n",
            "4       4   25   44k-99k     6.4  Australia         2002         -1\n",
            "5       5   44   77k-89k     1.4      India         1999       TRUE\n",
            "6       6   21   44k-99k     0.0   New York           -1         -1\n",
            "7       7   44   44k-99k     0.0  Australia           -1         -1\n",
            "8       8   35   44k-99k     5.4   New York           -1         -1\n",
            "9       9   22   44k-99k     7.7      India           -1       TRUE\n",
            "10     10   55   10k-49k     5.4      India         2008       TRUE\n",
            "11     11   44   10k-49k     6.7      India         2009         -1\n",
            "12     12   39   44k-99k     0.0      India         1999         -1\n",
            "13     13   25   44k-99k     0.0  Australia         2019       TRUE\n",
            "14     14   66   44k-99k     4.0  Australia         2020       TRUE\n",
            "15     15   44  88k-101k     3.0  Australia         1999         -1\n",
            "16     16   19   19k-40k     4.5      India         1984         -1\n",
            "17     17   39   44k-99k     5.3   New York         1943       TRUE\n",
            "18     18   35   44k-99k     6.7   New York         1954       TRUE\n",
            "19     19   32   44k-99k     3.3   New York         1955       TRUE\n",
            "20     20   39   44k-99k     5.7   New York         1944       TRUE\n",
            "21     21   35   44k-99k     5.0   New York         1946         -1\n",
            "22     22   19   55k-66k     7.8   New York         1988       TRUE\n",
            "23     23   39   44k-99k     2.4   New York         1999       TRUE\n",
            "24     24   13   44k-99k     0.0   New York         1987         -1\n",
            "25     25   55   44k-99k     0.0  Australia         1980       TRUE\n",
            "26     26   39   55k-66k     0.0      India         1934       TRUE\n",
            "27     27   52   44k-99k     5.4      India         1935         -1\n",
            "28     28   39   39k-88k     3.4  Australia         1932         -1\n"
          ]
        }
      ]
    },
    {
      "cell_type": "code",
      "source": [
        "#Established column\n",
        "median_age=df['Established'].median()\n",
        "df['Established']=df['Established'].replace(-1,median_age)\n",
        "print(df['Established'])\n",
        "print(df['Established'].median())"
      ],
      "metadata": {
        "colab": {
          "base_uri": "https://localhost:8080/"
        },
        "id": "C4WSsuXRJMVm",
        "outputId": "553509cb-3fc7-4176-f813-dc8772940acb"
      },
      "execution_count": null,
      "outputs": [
        {
          "output_type": "stream",
          "name": "stdout",
          "text": [
            "0     1999\n",
            "1     2002\n",
            "2     1984\n",
            "3     1988\n",
            "4     2002\n",
            "5     1999\n",
            "6     1984\n",
            "7     1984\n",
            "8     1984\n",
            "9     1984\n",
            "10    2008\n",
            "11    2009\n",
            "12    1999\n",
            "13    2019\n",
            "14    2020\n",
            "15    1999\n",
            "16    1984\n",
            "17    1943\n",
            "18    1954\n",
            "19    1955\n",
            "20    1944\n",
            "21    1946\n",
            "22    1988\n",
            "23    1999\n",
            "24    1987\n",
            "25    1980\n",
            "26    1934\n",
            "27    1935\n",
            "28    1932\n",
            "Name: Established, dtype: int64\n",
            "1984.0\n"
          ]
        }
      ]
    },
    {
      "cell_type": "code",
      "source": [
        "#Easy Apply\n",
        "df['Easy Apply'] = df['Easy Apply'].replace('-1','False').replace('TRUE','True')\n",
        "print(df['Easy Apply'])"
      ],
      "metadata": {
        "colab": {
          "base_uri": "https://localhost:8080/"
        },
        "id": "EnBcKvDYNYmQ",
        "outputId": "b33873d3-4b8d-4289-a70c-621aa8bc4017"
      },
      "execution_count": null,
      "outputs": [
        {
          "output_type": "stream",
          "name": "stdout",
          "text": [
            "0      True\n",
            "1      True\n",
            "2     False\n",
            "3     False\n",
            "4     False\n",
            "5      True\n",
            "6     False\n",
            "7     False\n",
            "8     False\n",
            "9      True\n",
            "10     True\n",
            "11    False\n",
            "12    False\n",
            "13     True\n",
            "14     True\n",
            "15    False\n",
            "16    False\n",
            "17     True\n",
            "18     True\n",
            "19     True\n",
            "20     True\n",
            "21    False\n",
            "22     True\n",
            "23     True\n",
            "24    False\n",
            "25     True\n",
            "26     True\n",
            "27    False\n",
            "28    False\n",
            "Name: Easy Apply, dtype: object\n"
          ]
        }
      ]
    },
    {
      "cell_type": "code",
      "source": [
        "print(df)"
      ],
      "metadata": {
        "colab": {
          "base_uri": "https://localhost:8080/"
        },
        "id": "jaK7KQyDP0GR",
        "outputId": "074f5909-6e49-42b4-e473-0f14d8ed5332"
      },
      "execution_count": null,
      "outputs": [
        {
          "output_type": "stream",
          "name": "stdout",
          "text": [
            "    Index  Age    Salary  Rating   Location  Established Easy Apply\n",
            "0       0   44   44k-99k     5.4      India         1999       True\n",
            "1       1   66   55k-66k     3.5   New York         2002       True\n",
            "2       2   39   77k-89k     0.0   New York         1984      False\n",
            "3       3   64   44k-99k     4.4      India         1988      False\n",
            "4       4   25   44k-99k     6.4  Australia         2002      False\n",
            "5       5   44   77k-89k     1.4      India         1999       True\n",
            "6       6   21   44k-99k     0.0   New York         1984      False\n",
            "7       7   44   44k-99k     0.0  Australia         1984      False\n",
            "8       8   35   44k-99k     5.4   New York         1984      False\n",
            "9       9   22   44k-99k     7.7      India         1984       True\n",
            "10     10   55   10k-49k     5.4      India         2008       True\n",
            "11     11   44   10k-49k     6.7      India         2009      False\n",
            "12     12   39   44k-99k     0.0      India         1999      False\n",
            "13     13   25   44k-99k     0.0  Australia         2019       True\n",
            "14     14   66   44k-99k     4.0  Australia         2020       True\n",
            "15     15   44  88k-101k     3.0  Australia         1999      False\n",
            "16     16   19   19k-40k     4.5      India         1984      False\n",
            "17     17   39   44k-99k     5.3   New York         1943       True\n",
            "18     18   35   44k-99k     6.7   New York         1954       True\n",
            "19     19   32   44k-99k     3.3   New York         1955       True\n",
            "20     20   39   44k-99k     5.7   New York         1944       True\n",
            "21     21   35   44k-99k     5.0   New York         1946      False\n",
            "22     22   19   55k-66k     7.8   New York         1988       True\n",
            "23     23   39   44k-99k     2.4   New York         1999       True\n",
            "24     24   13   44k-99k     0.0   New York         1987      False\n",
            "25     25   55   44k-99k     0.0  Australia         1980       True\n",
            "26     26   39   55k-66k     0.0      India         1934       True\n",
            "27     27   52   44k-99k     5.4      India         1935      False\n",
            "28     28   39   39k-88k     3.4  Australia         1932      False\n"
          ]
        }
      ]
    },
    {
      "cell_type": "code",
      "source": [
        "csv_file_path = 'cleaned_dataset_1.csv'\n",
        "\n",
        "# Convert the DataFrame to a CSV file\n",
        "df.to_csv('/content/sample_data/cleaned_dataset_1.csv', sep=',', index=False)\n",
        "\n",
        "print(f'The cleaned dataset has been successfully saved to cleaned_dataset_1.csv.')"
      ],
      "metadata": {
        "colab": {
          "base_uri": "https://localhost:8080/"
        },
        "id": "9uHwvDJ4-Lro",
        "outputId": "26706fe3-ef0c-405e-fd04-caa10daf906b"
      },
      "execution_count": 32,
      "outputs": [
        {
          "output_type": "stream",
          "name": "stdout",
          "text": [
            "The cleaned dataset has been successfully saved to cleaned_dataset_1.csv.\n"
          ]
        }
      ]
    }
  ]
}
